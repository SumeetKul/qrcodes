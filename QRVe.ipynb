{
 "cells": [
  {
   "cell_type": "code",
   "execution_count": 19,
   "id": "84ff12a1-b40d-4f43-89c6-a9b31149907d",
   "metadata": {},
   "outputs": [],
   "source": [
    "%matplotlib inline\n",
    "import segno\n",
    "from urllib.request import urlopen\n",
    "import io"
   ]
  },
  {
   "cell_type": "code",
   "execution_count": 22,
   "id": "ed86a7b8-4b63-4edd-a1c7-3c9801cbbfd2",
   "metadata": {},
   "outputs": [],
   "source": [
    "qrcode = segno.make('https://youtu.be/dQw4w9WgXcQ?si=Nnrxj0NPuL4KCu7t&t=43', error='q')\n",
    "qrcode.to_artistic(background='derek.jpg', target='derek_qr.jpg', scale=15)"
   ]
  },
  {
   "cell_type": "code",
   "execution_count": null,
   "id": "28052309-33f8-481a-a882-0506c4796452",
   "metadata": {},
   "outputs": [],
   "source": []
  }
 ],
 "metadata": {
  "kernelspec": {
   "display_name": "Python 3 (ipykernel)",
   "language": "python",
   "name": "python3"
  },
  "language_info": {
   "codemirror_mode": {
    "name": "ipython",
    "version": 3
   },
   "file_extension": ".py",
   "mimetype": "text/x-python",
   "name": "python",
   "nbconvert_exporter": "python",
   "pygments_lexer": "ipython3",
   "version": "3.12.2"
  }
 },
 "nbformat": 4,
 "nbformat_minor": 5
}
